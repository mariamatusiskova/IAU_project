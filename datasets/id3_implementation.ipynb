{
 "cells": [
  {
   "cell_type": "code",
   "id": "initial_id",
   "metadata": {
    "collapsed": true,
    "ExecuteTime": {
     "end_time": "2024-11-08T18:31:11.221707Z",
     "start_time": "2024-11-08T18:31:11.216979Z"
    }
   },
   "source": [
    "# -*- coding: utf-8 -*-\n",
    "#\n",
    "# Licensed under the Apache License, Version 2.0 (the \"License\");\n",
    "# you may not use this file except in compliance with the License.\n",
    "# You may obtain a copy of the License at\n",
    "#\n",
    "# http://www.apache.org/licenses/LICENSE-2.0\n",
    "#\n",
    "# Unless required by applicable law or agreed to in writing, software\n",
    "# distributed under the License is distributed on an \"AS IS\" BASIS,\n",
    "# WITHOUT WARRANTIES OR CONDITIONS OF ANY KIND, either express or\n",
    "# implied.\n",
    "# See the License for the specific language governing permissions and\n",
    "# limitations under the License.\n",
    "#"
   ],
   "outputs": [],
   "execution_count": 1
  },
  {
   "metadata": {},
   "cell_type": "markdown",
   "source": [
    "# Separate file for ID3 implementation\n",
    "\n",
    "## Imports"
   ],
   "id": "87155352a7766a2a"
  },
  {
   "metadata": {
    "ExecuteTime": {
     "end_time": "2024-11-08T18:31:11.363994Z",
     "start_time": "2024-11-08T18:31:11.244842Z"
    }
   },
   "cell_type": "code",
   "source": [
    "import numpy as np\n",
    "from collections import Counter"
   ],
   "id": "2b865c28ee429087",
   "outputs": [],
   "execution_count": 2
  },
  {
   "metadata": {},
   "cell_type": "markdown",
   "source": [
    "## ID3 Implementation\n",
    "With guidance from: https://www.geeksforgeeks.org/iterative-dichotomiser-3-id3-algorithm-from-scratch/ \n",
    "\n",
    "First, we need to create a class for the node of the tree. "
   ],
   "id": "9a517db33996b62e"
  },
  {
   "metadata": {
    "ExecuteTime": {
     "end_time": "2024-11-08T18:31:11.607655Z",
     "start_time": "2024-11-08T18:31:11.603770Z"
    }
   },
   "cell_type": "code",
   "source": [
    "class Node:\n",
    "        def __init__(self, feature=None, value=None, results=None, true_branch=None, false_branch=None):\n",
    "                self.feature = feature \n",
    "                self.value = value\n",
    "                self.results = results\n",
    "                self.true_branch = true_branch\n",
    "                self.false_branch = false_branch"
   ],
   "id": "893b296005d05dee",
   "outputs": [],
   "execution_count": 3
  },
  {
   "metadata": {},
   "cell_type": "markdown",
   "source": [
    "Next, we need helper function for calculating entropy.\n",
    "\n",
    "Entropy measures the uncertainty or impurity within a set of examples, helping to determine how well an attribute can split the data. "
   ],
   "id": "bcf9fb423d7ed0c0"
  },
  {
   "metadata": {
    "ExecuteTime": {
     "end_time": "2024-11-08T18:31:11.623159Z",
     "start_time": "2024-11-08T18:31:11.619230Z"
    }
   },
   "cell_type": "code",
   "source": [
    "def entropy(data):\n",
    "        results = Counter(data) # count the occurrences of each result\n",
    "        f_entropy = 0.0 # initialize \"final\" entropy\n",
    "        for result in results.keys():\n",
    "                p = float(results[result])/len(data)\n",
    "                f_entropy -= p*np.log2(p)\n",
    "        return f_entropy"
   ],
   "id": "5058290a0303edac",
   "outputs": [],
   "execution_count": 4
  },
  {
   "metadata": {},
   "cell_type": "markdown",
   "source": [
    "Now we need a function for splitting the data based on a given feature and value.\n",
    "\n",
    "This function will return two sets of data: one where the feature is less than or equal to the value, and one where the feature is greater than the value.\n",
    "\n",
    "X - the data\n",
    "y - the labels aka target values"
   ],
   "id": "f35feb4bddb930cc"
  },
  {
   "metadata": {
    "ExecuteTime": {
     "end_time": "2024-11-08T18:31:11.635013Z",
     "start_time": "2024-11-08T18:31:11.630433Z"
    }
   },
   "cell_type": "code",
   "source": [
    "def split_data(X, y, feature, value):\n",
    "        true_indices = np.where(X[:, feature] <= value)[0]\n",
    "        false_indices = np.where(X[:, feature] > value)[0]\n",
    "        \n",
    "        true_X, true_y = X[true_indices], y[true_indices]\n",
    "        false_X, false_y = X[false_indices], y[false_indices]\n",
    "        \n",
    "        return true_X, true_y, false_X, false_y"
   ],
   "id": "ef87a939d12e153b",
   "outputs": [],
   "execution_count": 5
  },
  {
   "metadata": {},
   "cell_type": "markdown",
   "source": [
    "Here is the main function for building the tree. \n",
    "\n",
    "It will recursively build the tree by going through all possible values of all features and choosing the one that has the best information gain. Building the tree will stop when the information gain is 0 or when the prediction of the node is clear. \n",
    "\n",
    "Source: https://www.geeksforgeeks.org/iterative-dichotomiser-3-id3-algorithm-from-scratch/\n",
    "with added comments for better understanding."
   ],
   "id": "da41756077f3a3c7"
  },
  {
   "metadata": {
    "ExecuteTime": {
     "end_time": "2024-11-08T18:31:11.649453Z",
     "start_time": "2024-11-08T18:31:11.641887Z"
    }
   },
   "cell_type": "code",
   "source": [
    "def build_tree(X, y):   # X - data, y - labels (y needs to be 1D array)\n",
    "        if len(set(y)) == 1:    # if all the labels are the same, the node is a leaf\n",
    "                return Node(results=y[0])\n",
    "\n",
    "        best_gain = 0\n",
    "        best_criteria = None\n",
    "        best_sets = None\n",
    "        n_features = X.shape[1]\n",
    "\n",
    "        current_entropy = entropy(y)\n",
    "        \n",
    "        # the loop where we go through all possible values of all features\n",
    "        for feature in range(n_features):\n",
    "                feature_values = set(X[:, feature])\n",
    "                for value in feature_values:    # go through all possible values of the feature\n",
    "                        true_X, true_y, false_X, false_y = split_data(X, y, feature, value)\n",
    "                        \n",
    "                        # calculating the information gain of the split\n",
    "                        true_entropy = entropy(true_y)\n",
    "                        false_entropy = entropy(false_y)\n",
    "                        p = len(true_y) / len(y)\n",
    "                        gain = current_entropy - p * true_entropy - (1 - p) * false_entropy\n",
    "                        \n",
    "                        # if best -> store the values\n",
    "                        if gain > best_gain:\n",
    "                                best_gain = gain\n",
    "                                best_criteria = (feature, value)\n",
    "                                best_sets = (true_X, true_y, false_X, false_y)\n",
    "        \n",
    "        # create the next nodes after picking the best possible split\n",
    "        if best_gain > 0:\n",
    "                true_branch = build_tree(best_sets[0], best_sets[1])\n",
    "                false_branch = build_tree(best_sets[2], best_sets[3])\n",
    "                return Node(feature=best_criteria[0], value=best_criteria[1], true_branch=true_branch, false_branch=false_branch)\n",
    "        \n",
    "        # if the best gain is 0, the node is a leaf\n",
    "        return Node(results=y[0])"
   ],
   "id": "a8486317ba162a7d",
   "outputs": [],
   "execution_count": 6
  },
  {
   "metadata": {},
   "cell_type": "markdown",
   "source": "This function will return the prediction of the tree. It will simply traverse the tree until it reaches a leaf node and return the result of that node, i.e., prediction of the tree.",
   "id": "5206eebd883a2e84"
  },
  {
   "metadata": {
    "ExecuteTime": {
     "end_time": "2024-11-08T18:31:11.659860Z",
     "start_time": "2024-11-08T18:31:11.656013Z"
    }
   },
   "cell_type": "code",
   "source": [
    "def predict(tree, sample):\n",
    "        if tree.results is not None:\n",
    "                return tree.results\n",
    "        else:\n",
    "                branch = tree.false_branch\n",
    "                if sample[tree.feature] <= tree.value:\n",
    "                        branch = tree.true_branch\n",
    "                return predict(branch, sample)"
   ],
   "id": "a3b32e8308acda17",
   "outputs": [],
   "execution_count": 7
  },
  {
   "metadata": {},
   "cell_type": "markdown",
   "source": "All the functions we need are now implemented. We will continue the testing in merge file.",
   "id": "811fdc7c758cf73a"
  }
 ],
 "metadata": {
  "kernelspec": {
   "display_name": "Python 3",
   "language": "python",
   "name": "python3"
  },
  "language_info": {
   "codemirror_mode": {
    "name": "ipython",
    "version": 2
   },
   "file_extension": ".py",
   "mimetype": "text/x-python",
   "name": "python",
   "nbconvert_exporter": "python",
   "pygments_lexer": "ipython2",
   "version": "2.7.6"
  }
 },
 "nbformat": 4,
 "nbformat_minor": 5
}

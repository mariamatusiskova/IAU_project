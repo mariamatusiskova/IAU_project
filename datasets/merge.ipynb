{
 "cells": [
  {
   "metadata": {
    "ExecuteTime": {
     "end_time": "2024-10-24T11:46:50.726906Z",
     "start_time": "2024-10-24T11:46:50.720972Z"
    }
   },
   "cell_type": "code",
   "source": [
    "# -*- coding: utf-8 -*-\n",
    "#\n",
    "# Licensed under the Apache License, Version 2.0 (the \"License\");\n",
    "# you may not use this file except in compliance with the License.\n",
    "# You may obtain a copy of the License at\n",
    "#\n",
    "# http://www.apache.org/licenses/LICENSE-2.0\n",
    "#\n",
    "# Unless required by applicable law or agreed to in writing, software\n",
    "# distributed under the License is distributed on an \"AS IS\" BASIS,\n",
    "# WITHOUT WARRANTIES OR CONDITIONS OF ANY KIND, either express or\n",
    "# implied.\n",
    "# See the License for the specific language governing permissions and\n",
    "# limitations under the License.\n",
    "#"
   ],
   "id": "a22529951de96682",
   "outputs": [],
   "execution_count": 7
  },
  {
   "metadata": {},
   "cell_type": "markdown",
   "source": "# **Always run all imported notebooks when you make a change in some files you imported.**",
   "id": "c06597e0c25dfdb3"
  },
  {
   "metadata": {
    "ExecuteTime": {
     "end_time": "2024-10-24T11:46:50.760306Z",
     "start_time": "2024-10-24T11:46:50.754352Z"
    }
   },
   "cell_type": "code",
   "source": [
    "import import_ipynb\n",
    "import connections\n",
    "import devices\n",
    "import processes\n",
    "import profiles"
   ],
   "id": "60c535da9f6d5c0a",
   "outputs": [],
   "execution_count": 8
  },
  {
   "metadata": {
    "ExecuteTime": {
     "end_time": "2024-10-24T11:46:50.775958Z",
     "start_time": "2024-10-24T11:46:50.770585Z"
    }
   },
   "cell_type": "code",
   "source": [
    "connections.test()\n",
    "devices.test()\n",
    "processes.test()\n",
    "profiles.test()"
   ],
   "id": "a68d2bfab95821c7",
   "outputs": [
    {
     "name": "stdout",
     "output_type": "stream",
     "text": [
      "Success\n",
      "Success\n",
      "Success\n",
      "Success\n"
     ]
    }
   ],
   "execution_count": 9
  }
 ],
 "metadata": {
  "kernelspec": {
   "display_name": "Python 3",
   "language": "python",
   "name": "python3"
  },
  "language_info": {
   "codemirror_mode": {
    "name": "ipython",
    "version": 2
   },
   "file_extension": ".py",
   "mimetype": "text/x-python",
   "name": "python",
   "nbconvert_exporter": "python",
   "pygments_lexer": "ipython2",
   "version": "2.7.6"
  }
 },
 "nbformat": 4,
 "nbformat_minor": 5
}

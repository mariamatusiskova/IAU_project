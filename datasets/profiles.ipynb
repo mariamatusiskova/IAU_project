{
 "cells": [
  {
   "metadata": {
    "ExecuteTime": {
     "end_time": "2024-10-19T13:39:55.314374Z",
     "start_time": "2024-10-19T13:39:55.302736Z"
    }
   },
   "cell_type": "code",
   "source": [
    "# -*- coding: utf-8 -*-\n",
    "#\n",
    "# Licensed under the Apache License, Version 2.0 (the \"License\");\n",
    "# you may not use this file except in compliance with the License.\n",
    "# You may obtain a copy of the License at\n",
    "#\n",
    "# http://www.apache.org/licenses/LICENSE-2.0\n",
    "#\n",
    "# Unless required by applicable law or agreed to in writing, software\n",
    "# distributed under the License is distributed on an \"AS IS\" BASIS,\n",
    "# WITHOUT WARRANTIES OR CONDITIONS OF ANY KIND, either express or\n",
    "# implied.\n",
    "# See the License for the specific language governing permissions and\n",
    "# limitations under the License.\n",
    "#"
   ],
   "id": "eff382acf437226f",
   "outputs": [],
   "execution_count": 1
  },
  {
   "metadata": {
    "ExecuteTime": {
     "end_time": "2024-10-19T13:39:55.335215Z",
     "start_time": "2024-10-19T13:39:55.327992Z"
    }
   },
   "cell_type": "code",
   "source": [
    "def test():\n",
    "    print(\"Success\")"
   ],
   "id": "9f95e05a6a89e636",
   "outputs": [],
   "execution_count": 2
  },
  {
   "metadata": {},
   "cell_type": "markdown",
   "source": [
    "### Adam Candrák/Mária Matušisková - 50%/50%\n",
    "\n",
    "# Imports"
   ],
   "id": "150df11b97da75aa"
  },
  {
   "metadata": {
    "ExecuteTime": {
     "end_time": "2024-10-19T13:39:57.317557Z",
     "start_time": "2024-10-19T13:39:55.496250Z"
    }
   },
   "cell_type": "code",
   "source": [
    "import pandas as pd\n",
    "import numpy as np\n",
    "import scipy.stats as stats\n",
    "from matplotlib import pyplot as plt\n",
    "import seaborn as sns"
   ],
   "id": "d5448e47d29a7306",
   "outputs": [],
   "execution_count": 3
  },
  {
   "metadata": {},
   "cell_type": "markdown",
   "source": [
    "# Phase 1 - Exploratory analysis\n",
    "\n",
    "## 1.1 Basic description of the data together with characteristics\n",
    "### EDA with visualization\n",
    "-------------------------------------------------------------------------------------------\n",
    "#### Analysis of data structures such as files (structures and relations, number, types, ...), records (structures, number of records, number of attributes, types, ...)\n"
   ],
   "id": "bf1236aa62a1f983"
  },
  {
   "metadata": {},
   "cell_type": "markdown",
   "source": "#### *1. Load dataset Profiles*",
   "id": "3ddb37c36ffe9202"
  },
  {
   "metadata": {
    "ExecuteTime": {
     "end_time": "2024-10-19T13:39:57.419047Z",
     "start_time": "2024-10-19T13:39:57.326708Z"
    }
   },
   "cell_type": "code",
   "source": [
    "connections_file = \"../data/Connections.csv\"\n",
    "devices_file = \"../data/Devices.csv\"\n",
    "processes_file = \"../data/Processes.csv\"\n",
    "profiles_file = \"../data/Profiles.csv\"\n",
    "\n",
    "connections = pd.read_csv(connections_file, sep='\\t')\n",
    "devices = pd.read_csv(devices_file, sep='\\t')\n",
    "processes = pd.read_csv(processes_file, sep='\\t')\n",
    "profiles = pd.read_csv(profiles_file, sep='\\t')"
   ],
   "id": "c11801286a8bb439",
   "outputs": [],
   "execution_count": 4
  },
  {
   "metadata": {},
   "cell_type": "markdown",
   "source": [
    "- **Profiles** - The dataset contains user data. The dataset has these attributes:\n",
    "    - username\n",
    "    - ssn - the social security number\n",
    "    - mail - email of the user\n",
    "    - residence\n",
    "    - birthdate\n",
    "    - imei - International Mobile Equipment Identity - It is a unique number that helps identify device or track it when it is lost. Furthermore, it is preventing from unauthorized network access.\n",
    "    - user_id\n",
    "    - registration\n",
    "    - job\n",
    "    - company\n",
    "    - address\n",
    "    - name \n",
    "    "
   ],
   "id": "da94d5bf1713b91f"
  },
  {
   "metadata": {
    "ExecuteTime": {
     "end_time": "2024-10-19T13:39:57.459771Z",
     "start_time": "2024-10-19T13:39:57.452624Z"
    }
   },
   "cell_type": "code",
   "source": "profiles.columns",
   "id": "7f5f6d9cb5991bf0",
   "outputs": [
    {
     "data": {
      "text/plain": [
       "Index(['username', 'ssn', 'mail', 'residence', 'birthdate', 'imei', 'user_id',\n",
       "       'registration', 'job', 'company', 'address', 'name'],\n",
       "      dtype='object')"
      ]
     },
     "execution_count": 5,
     "metadata": {},
     "output_type": "execute_result"
    }
   ],
   "execution_count": 5
  },
  {
   "metadata": {},
   "cell_type": "markdown",
   "source": "Types of the columns:",
   "id": "6488125eb6a13390"
  },
  {
   "metadata": {
    "ExecuteTime": {
     "end_time": "2024-10-19T13:39:57.542966Z",
     "start_time": "2024-10-19T13:39:57.536658Z"
    }
   },
   "cell_type": "code",
   "source": "profiles.dtypes",
   "id": "38563a8267a5dd96",
   "outputs": [
    {
     "data": {
      "text/plain": [
       "username        object\n",
       "ssn             object\n",
       "mail            object\n",
       "residence       object\n",
       "birthdate       object\n",
       "imei             int64\n",
       "user_id          int64\n",
       "registration    object\n",
       "job             object\n",
       "company         object\n",
       "address         object\n",
       "name            object\n",
       "dtype: object"
      ]
     },
     "execution_count": 6,
     "metadata": {},
     "output_type": "execute_result"
    }
   ],
   "execution_count": 6
  },
  {
   "metadata": {},
   "cell_type": "markdown",
   "source": "The size of the dataset is 31 044.",
   "id": "1b8b7095b4148b90"
  },
  {
   "metadata": {
    "ExecuteTime": {
     "end_time": "2024-10-19T13:39:57.614240Z",
     "start_time": "2024-10-19T13:39:57.608875Z"
    }
   },
   "cell_type": "code",
   "source": "profiles.size",
   "id": "ef76ae04a4aefd0a",
   "outputs": [
    {
     "data": {
      "text/plain": [
       "31044"
      ]
     },
     "execution_count": 7,
     "metadata": {},
     "output_type": "execute_result"
    }
   ],
   "execution_count": 7
  },
  {
   "metadata": {},
   "cell_type": "markdown",
   "source": "Shows the first lines of the dataset.",
   "id": "e4bc19e543a4da42"
  },
  {
   "metadata": {
    "ExecuteTime": {
     "end_time": "2024-10-19T13:39:57.670068Z",
     "start_time": "2024-10-19T13:39:57.660801Z"
    }
   },
   "cell_type": "code",
   "source": "profiles.head()",
   "id": "2b4d0d0650496c83",
   "outputs": [
    {
     "data": {
      "text/plain": [
       "       username          ssn                   mail  \\\n",
       "0         joy86  312-79-2503       marc49@gmail.com   \n",
       "1  andrewturner  275-09-2121   sedwards@hotmail.com   \n",
       "2  rogersrobert  592-96-3718  martinhuber@gmail.com   \n",
       "3     bethany94  171-66-6416    kwilliams@yahoo.com   \n",
       "4   nathanmoore  149-50-1186       shardy@yahoo.com   \n",
       "\n",
       "                                   residence   birthdate                 imei  \\\n",
       "0                                        NaN  1943-08-29  3590433799317661966   \n",
       "1  75135 Smith Square\\nPort Nathan, AR 79925  1993-03-09  3590433799317661792   \n",
       "2                                        NaN  1935-10-23  8630330696303482253   \n",
       "3                                        NaN  2021-04-12   863033069630348065   \n",
       "4                                        NaN  2019-11-10   863033069630348081   \n",
       "\n",
       "   user_id          registration                              job  \\\n",
       "0     1888  04/07/2021, 00:00:00                Market researcher   \n",
       "1     1942            2021-05-21  Administrator, local government   \n",
       "2      598  03/24/2024, 00:00:00                              NaN   \n",
       "3     1070            2021-03-31                              NaN   \n",
       "4     1369            2022-06-26                 Sports therapist   \n",
       "\n",
       "                     company                                        address  \\\n",
       "0                Simpson Inc  9105 Cox Curve Apt. 055\\nPricemouth, AR 23186   \n",
       "1  Deleon, Duncan and Garcia                                            NaN   \n",
       "2                Ramirez PLC                                            NaN   \n",
       "3                   Lane Ltd                      USNV Castro\\nFPO AE 61560   \n",
       "4                Smith Group    4986 Richard Ford\\nPort Susanport, DC 06966   \n",
       "\n",
       "               name  \n",
       "0      Dakota Stark  \n",
       "1  Valerie Mitchell  \n",
       "2    Michael Martin  \n",
       "3    Bruce Williams  \n",
       "4         Tara Wood  "
      ],
      "text/html": [
       "<div>\n",
       "<style scoped>\n",
       "    .dataframe tbody tr th:only-of-type {\n",
       "        vertical-align: middle;\n",
       "    }\n",
       "\n",
       "    .dataframe tbody tr th {\n",
       "        vertical-align: top;\n",
       "    }\n",
       "\n",
       "    .dataframe thead th {\n",
       "        text-align: right;\n",
       "    }\n",
       "</style>\n",
       "<table border=\"1\" class=\"dataframe\">\n",
       "  <thead>\n",
       "    <tr style=\"text-align: right;\">\n",
       "      <th></th>\n",
       "      <th>username</th>\n",
       "      <th>ssn</th>\n",
       "      <th>mail</th>\n",
       "      <th>residence</th>\n",
       "      <th>birthdate</th>\n",
       "      <th>imei</th>\n",
       "      <th>user_id</th>\n",
       "      <th>registration</th>\n",
       "      <th>job</th>\n",
       "      <th>company</th>\n",
       "      <th>address</th>\n",
       "      <th>name</th>\n",
       "    </tr>\n",
       "  </thead>\n",
       "  <tbody>\n",
       "    <tr>\n",
       "      <th>0</th>\n",
       "      <td>joy86</td>\n",
       "      <td>312-79-2503</td>\n",
       "      <td>marc49@gmail.com</td>\n",
       "      <td>NaN</td>\n",
       "      <td>1943-08-29</td>\n",
       "      <td>3590433799317661966</td>\n",
       "      <td>1888</td>\n",
       "      <td>04/07/2021, 00:00:00</td>\n",
       "      <td>Market researcher</td>\n",
       "      <td>Simpson Inc</td>\n",
       "      <td>9105 Cox Curve Apt. 055\\nPricemouth, AR 23186</td>\n",
       "      <td>Dakota Stark</td>\n",
       "    </tr>\n",
       "    <tr>\n",
       "      <th>1</th>\n",
       "      <td>andrewturner</td>\n",
       "      <td>275-09-2121</td>\n",
       "      <td>sedwards@hotmail.com</td>\n",
       "      <td>75135 Smith Square\\nPort Nathan, AR 79925</td>\n",
       "      <td>1993-03-09</td>\n",
       "      <td>3590433799317661792</td>\n",
       "      <td>1942</td>\n",
       "      <td>2021-05-21</td>\n",
       "      <td>Administrator, local government</td>\n",
       "      <td>Deleon, Duncan and Garcia</td>\n",
       "      <td>NaN</td>\n",
       "      <td>Valerie Mitchell</td>\n",
       "    </tr>\n",
       "    <tr>\n",
       "      <th>2</th>\n",
       "      <td>rogersrobert</td>\n",
       "      <td>592-96-3718</td>\n",
       "      <td>martinhuber@gmail.com</td>\n",
       "      <td>NaN</td>\n",
       "      <td>1935-10-23</td>\n",
       "      <td>8630330696303482253</td>\n",
       "      <td>598</td>\n",
       "      <td>03/24/2024, 00:00:00</td>\n",
       "      <td>NaN</td>\n",
       "      <td>Ramirez PLC</td>\n",
       "      <td>NaN</td>\n",
       "      <td>Michael Martin</td>\n",
       "    </tr>\n",
       "    <tr>\n",
       "      <th>3</th>\n",
       "      <td>bethany94</td>\n",
       "      <td>171-66-6416</td>\n",
       "      <td>kwilliams@yahoo.com</td>\n",
       "      <td>NaN</td>\n",
       "      <td>2021-04-12</td>\n",
       "      <td>863033069630348065</td>\n",
       "      <td>1070</td>\n",
       "      <td>2021-03-31</td>\n",
       "      <td>NaN</td>\n",
       "      <td>Lane Ltd</td>\n",
       "      <td>USNV Castro\\nFPO AE 61560</td>\n",
       "      <td>Bruce Williams</td>\n",
       "    </tr>\n",
       "    <tr>\n",
       "      <th>4</th>\n",
       "      <td>nathanmoore</td>\n",
       "      <td>149-50-1186</td>\n",
       "      <td>shardy@yahoo.com</td>\n",
       "      <td>NaN</td>\n",
       "      <td>2019-11-10</td>\n",
       "      <td>863033069630348081</td>\n",
       "      <td>1369</td>\n",
       "      <td>2022-06-26</td>\n",
       "      <td>Sports therapist</td>\n",
       "      <td>Smith Group</td>\n",
       "      <td>4986 Richard Ford\\nPort Susanport, DC 06966</td>\n",
       "      <td>Tara Wood</td>\n",
       "    </tr>\n",
       "  </tbody>\n",
       "</table>\n",
       "</div>"
      ]
     },
     "execution_count": 8,
     "metadata": {},
     "output_type": "execute_result"
    }
   ],
   "execution_count": 8
  },
  {
   "metadata": {},
   "cell_type": "markdown",
   "source": "See more info about the dataset... There is a rule that the columns should not have null values.",
   "id": "622159bc6e783f2a"
  },
  {
   "metadata": {
    "ExecuteTime": {
     "end_time": "2024-10-19T13:39:57.748492Z",
     "start_time": "2024-10-19T13:39:57.741364Z"
    }
   },
   "cell_type": "code",
   "source": "profiles.info()",
   "id": "2f1b16d75ad873d6",
   "outputs": [
    {
     "name": "stdout",
     "output_type": "stream",
     "text": [
      "<class 'pandas.core.frame.DataFrame'>\n",
      "RangeIndex: 2587 entries, 0 to 2586\n",
      "Data columns (total 12 columns):\n",
      " #   Column        Non-Null Count  Dtype \n",
      "---  ------        --------------  ----- \n",
      " 0   username      2587 non-null   object\n",
      " 1   ssn           2587 non-null   object\n",
      " 2   mail          2587 non-null   object\n",
      " 3   residence     905 non-null    object\n",
      " 4   birthdate     1423 non-null   object\n",
      " 5   imei          2587 non-null   int64 \n",
      " 6   user_id       2587 non-null   int64 \n",
      " 7   registration  2587 non-null   object\n",
      " 8   job           776 non-null    object\n",
      " 9   company       2587 non-null   object\n",
      " 10  address       2199 non-null   object\n",
      " 11  name          2587 non-null   object\n",
      "dtypes: int64(2), object(10)\n",
      "memory usage: 242.7+ KB\n"
     ]
    }
   ],
   "execution_count": 9
  },
  {
   "metadata": {},
   "cell_type": "markdown",
   "source": [
    "Let's see the descriptive statistics for data distribution:\n",
    "- count - the final number of the non-null values\n",
    "- mean - the average of the values in the each column\n",
    "- std - the standard deviation (how spread out the data are)\n",
    "- min - the smallest value in the each column\n",
    "- 25% - the value closest to the 25% metric of data\n",
    "- 50% - the value closest to the 50% metric of data\n",
    "- 75% - the value closest to the 75% metric of data\n",
    "- max - the highest value in the each column"
   ],
   "id": "a4a7d876b1ee0f48"
  },
  {
   "metadata": {
    "ExecuteTime": {
     "end_time": "2024-10-19T13:39:57.799388Z",
     "start_time": "2024-10-19T13:39:57.788928Z"
    }
   },
   "cell_type": "code",
   "source": "profiles.describe()",
   "id": "6fa5c676ceb1a4df",
   "outputs": [
    {
     "data": {
      "text/plain": [
       "               imei      user_id\n",
       "count  2.587000e+03  2587.000000\n",
       "mean   3.978629e+18  1309.511403\n",
       "std    3.361321e+18   748.646640\n",
       "min    3.590434e+17     0.000000\n",
       "25%    8.630331e+17   659.500000\n",
       "50%    3.590434e+18  1292.000000\n",
       "75%    8.630331e+18  1953.000000\n",
       "max    8.630331e+18  2586.000000"
      ],
      "text/html": [
       "<div>\n",
       "<style scoped>\n",
       "    .dataframe tbody tr th:only-of-type {\n",
       "        vertical-align: middle;\n",
       "    }\n",
       "\n",
       "    .dataframe tbody tr th {\n",
       "        vertical-align: top;\n",
       "    }\n",
       "\n",
       "    .dataframe thead th {\n",
       "        text-align: right;\n",
       "    }\n",
       "</style>\n",
       "<table border=\"1\" class=\"dataframe\">\n",
       "  <thead>\n",
       "    <tr style=\"text-align: right;\">\n",
       "      <th></th>\n",
       "      <th>imei</th>\n",
       "      <th>user_id</th>\n",
       "    </tr>\n",
       "  </thead>\n",
       "  <tbody>\n",
       "    <tr>\n",
       "      <th>count</th>\n",
       "      <td>2.587000e+03</td>\n",
       "      <td>2587.000000</td>\n",
       "    </tr>\n",
       "    <tr>\n",
       "      <th>mean</th>\n",
       "      <td>3.978629e+18</td>\n",
       "      <td>1309.511403</td>\n",
       "    </tr>\n",
       "    <tr>\n",
       "      <th>std</th>\n",
       "      <td>3.361321e+18</td>\n",
       "      <td>748.646640</td>\n",
       "    </tr>\n",
       "    <tr>\n",
       "      <th>min</th>\n",
       "      <td>3.590434e+17</td>\n",
       "      <td>0.000000</td>\n",
       "    </tr>\n",
       "    <tr>\n",
       "      <th>25%</th>\n",
       "      <td>8.630331e+17</td>\n",
       "      <td>659.500000</td>\n",
       "    </tr>\n",
       "    <tr>\n",
       "      <th>50%</th>\n",
       "      <td>3.590434e+18</td>\n",
       "      <td>1292.000000</td>\n",
       "    </tr>\n",
       "    <tr>\n",
       "      <th>75%</th>\n",
       "      <td>8.630331e+18</td>\n",
       "      <td>1953.000000</td>\n",
       "    </tr>\n",
       "    <tr>\n",
       "      <th>max</th>\n",
       "      <td>8.630331e+18</td>\n",
       "      <td>2586.000000</td>\n",
       "    </tr>\n",
       "  </tbody>\n",
       "</table>\n",
       "</div>"
      ]
     },
     "execution_count": 10,
     "metadata": {},
     "output_type": "execute_result"
    }
   ],
   "execution_count": 10
  },
  {
   "metadata": {
    "ExecuteTime": {
     "end_time": "2024-10-19T13:39:57.856609Z",
     "start_time": "2024-10-19T13:39:57.834077Z"
    }
   },
   "cell_type": "code",
   "source": "profiles.describe(exclude=np.number)",
   "id": "d5547e5d78452836",
   "outputs": [
    {
     "data": {
      "text/plain": [
       "         username          ssn                mail  \\\n",
       "count        2587         2587                2587   \n",
       "unique       2547         2587                2574   \n",
       "top     nanderson  312-79-2503  csmith@hotmail.com   \n",
       "freq            3            1                   2   \n",
       "\n",
       "                                        residence   birthdate registration  \\\n",
       "count                                         905        1423         2587   \n",
       "unique                                        905        1394         2291   \n",
       "top     75135 Smith Square\\nPort Nathan, AR 79925  1911-05-11   2023/02/02   \n",
       "freq                                            1           2            3   \n",
       "\n",
       "                            job    company  \\\n",
       "count                       776       2587   \n",
       "unique                      451       2427   \n",
       "top     Chartered loss adjuster  Smith PLC   \n",
       "freq                          7          7   \n",
       "\n",
       "                                              address               name  \n",
       "count                                            2199               2587  \n",
       "unique                                           2199               2530  \n",
       "top     9105 Cox Curve Apt. 055\\nPricemouth, AR 23186  Kimberly Williams  \n",
       "freq                                                1                  4  "
      ],
      "text/html": [
       "<div>\n",
       "<style scoped>\n",
       "    .dataframe tbody tr th:only-of-type {\n",
       "        vertical-align: middle;\n",
       "    }\n",
       "\n",
       "    .dataframe tbody tr th {\n",
       "        vertical-align: top;\n",
       "    }\n",
       "\n",
       "    .dataframe thead th {\n",
       "        text-align: right;\n",
       "    }\n",
       "</style>\n",
       "<table border=\"1\" class=\"dataframe\">\n",
       "  <thead>\n",
       "    <tr style=\"text-align: right;\">\n",
       "      <th></th>\n",
       "      <th>username</th>\n",
       "      <th>ssn</th>\n",
       "      <th>mail</th>\n",
       "      <th>residence</th>\n",
       "      <th>birthdate</th>\n",
       "      <th>registration</th>\n",
       "      <th>job</th>\n",
       "      <th>company</th>\n",
       "      <th>address</th>\n",
       "      <th>name</th>\n",
       "    </tr>\n",
       "  </thead>\n",
       "  <tbody>\n",
       "    <tr>\n",
       "      <th>count</th>\n",
       "      <td>2587</td>\n",
       "      <td>2587</td>\n",
       "      <td>2587</td>\n",
       "      <td>905</td>\n",
       "      <td>1423</td>\n",
       "      <td>2587</td>\n",
       "      <td>776</td>\n",
       "      <td>2587</td>\n",
       "      <td>2199</td>\n",
       "      <td>2587</td>\n",
       "    </tr>\n",
       "    <tr>\n",
       "      <th>unique</th>\n",
       "      <td>2547</td>\n",
       "      <td>2587</td>\n",
       "      <td>2574</td>\n",
       "      <td>905</td>\n",
       "      <td>1394</td>\n",
       "      <td>2291</td>\n",
       "      <td>451</td>\n",
       "      <td>2427</td>\n",
       "      <td>2199</td>\n",
       "      <td>2530</td>\n",
       "    </tr>\n",
       "    <tr>\n",
       "      <th>top</th>\n",
       "      <td>nanderson</td>\n",
       "      <td>312-79-2503</td>\n",
       "      <td>csmith@hotmail.com</td>\n",
       "      <td>75135 Smith Square\\nPort Nathan, AR 79925</td>\n",
       "      <td>1911-05-11</td>\n",
       "      <td>2023/02/02</td>\n",
       "      <td>Chartered loss adjuster</td>\n",
       "      <td>Smith PLC</td>\n",
       "      <td>9105 Cox Curve Apt. 055\\nPricemouth, AR 23186</td>\n",
       "      <td>Kimberly Williams</td>\n",
       "    </tr>\n",
       "    <tr>\n",
       "      <th>freq</th>\n",
       "      <td>3</td>\n",
       "      <td>1</td>\n",
       "      <td>2</td>\n",
       "      <td>1</td>\n",
       "      <td>2</td>\n",
       "      <td>3</td>\n",
       "      <td>7</td>\n",
       "      <td>7</td>\n",
       "      <td>1</td>\n",
       "      <td>4</td>\n",
       "    </tr>\n",
       "  </tbody>\n",
       "</table>\n",
       "</div>"
      ]
     },
     "execution_count": 11,
     "metadata": {},
     "output_type": "execute_result"
    }
   ],
   "execution_count": 11
  },
  {
   "metadata": {},
   "cell_type": "markdown",
   "source": "Number of rows and columns:",
   "id": "25ab05bc7ac703d8"
  },
  {
   "metadata": {
    "ExecuteTime": {
     "end_time": "2024-10-19T13:39:57.984179Z",
     "start_time": "2024-10-19T13:39:57.979750Z"
    }
   },
   "cell_type": "code",
   "source": "profiles.shape",
   "id": "4747804900cf8bf7",
   "outputs": [
    {
     "data": {
      "text/plain": [
       "(2587, 12)"
      ]
     },
     "execution_count": 12,
     "metadata": {},
     "output_type": "execute_result"
    }
   ],
   "execution_count": 12
  },
  {
   "metadata": {},
   "cell_type": "markdown",
   "source": "#### *3. Analyze Data Structure*",
   "id": "86896acf4d8ec5e1"
  },
  {
   "metadata": {},
   "cell_type": "markdown",
   "source": "- **Profiles**",
   "id": "d81f13ccb9ecb263"
  },
  {
   "metadata": {},
   "cell_type": "markdown",
   "source": "Count elements (distinct)",
   "id": "1456f6705adcfa4e"
  },
  {
   "metadata": {
    "ExecuteTime": {
     "end_time": "2024-10-19T13:39:58.153549Z",
     "start_time": "2024-10-19T13:39:58.142194Z"
    }
   },
   "cell_type": "code",
   "source": "profiles.nunique()",
   "id": "bc96884d9a2943e3",
   "outputs": [
    {
     "data": {
      "text/plain": [
       "username        2547\n",
       "ssn             2587\n",
       "mail            2574\n",
       "residence        905\n",
       "birthdate       1394\n",
       "imei             497\n",
       "user_id         1633\n",
       "registration    2291\n",
       "job              451\n",
       "company         2427\n",
       "address         2199\n",
       "name            2530\n",
       "dtype: int64"
      ]
     },
     "execution_count": 13,
     "metadata": {},
     "output_type": "execute_result"
    }
   ],
   "execution_count": 13
  },
  {
   "metadata": {},
   "cell_type": "markdown",
   "source": [
    "-----------------------------------------------------\n",
    "#### Analysis of individual attributes: for selected significant attributes (min 10), analyze their distributions and basic descriptive statistics."
   ],
   "id": "9b884fed0e07cc53"
  },
  {
   "metadata": {},
   "cell_type": "markdown",
   "source": "Summarize the distribution of various usages of apps, while excluding imei and ts, because those are not numerical values.",
   "id": "bd4dfca814f29be8"
  },
  {
   "metadata": {
    "ExecuteTime": {
     "end_time": "2024-10-19T13:39:58.482008Z",
     "start_time": "2024-10-19T13:39:58.295538Z"
    }
   },
   "cell_type": "code",
   "source": [
    "fig, ax = plt.subplots(figsize=(20, 8))\n",
    "\n",
    "profiles[profiles.columns.difference(['username', 'ssn', 'mail', 'residence', 'birthdate', 'registration', 'job', 'company', 'address', 'name'])].plot.box(ax=ax)\n",
    "\n",
    "plt.xlabel('Features')\n",
    "plt.ylabel('Metric Values')\n",
    "plt.title('Box Plot of Profiles Data')"
   ],
   "id": "22105cfc9f9bc797",
   "outputs": [
    {
     "data": {
      "text/plain": [
       "Text(0.5, 1.0, 'Box Plot of Profiles Data')"
      ]
     },
     "execution_count": 14,
     "metadata": {},
     "output_type": "execute_result"
    },
    {
     "data": {
      "text/plain": [
       "<Figure size 2000x800 with 1 Axes>"
      ],
      "image/png": "[encoded data removed]"
     },
     "metadata": {},
     "output_type": "display_data"
    }
   ],
   "execution_count": 14
  },
  {
   "metadata": {},
   "cell_type": "markdown",
   "source": "Occurrence of values from the column imei:",
   "id": "b3cf5d40c36848da"
  },
  {
   "metadata": {
    "ExecuteTime": {
     "end_time": "2024-10-19T13:39:58.737467Z",
     "start_time": "2024-10-19T13:39:58.596501Z"
    }
   },
   "cell_type": "code",
   "source": "profiles['imei'].plot.hist(bins=30)",
   "id": "389d7f8f2e76aa32",
   "outputs": [
    {
     "data": {
      "text/plain": [
       "<Axes: ylabel='Frequency'>"
      ]
     },
     "execution_count": 15,
     "metadata": {},
     "output_type": "execute_result"
    },
    {
     "data": {
      "text/plain": [
       "<Figure size 640x480 with 1 Axes>"
      ],
      "image/png": "[encoded data removed]"
     },
     "metadata": {},
     "output_type": "display_data"
    }
   ],
   "execution_count": 15
  },
  {
   "metadata": {},
   "cell_type": "markdown",
   "source": "Occurrence of values from the column user_id:",
   "id": "29b61aa3ee1b05f1"
  },
  {
   "metadata": {
    "ExecuteTime": {
     "end_time": "2024-10-19T13:39:59.062608Z",
     "start_time": "2024-10-19T13:39:58.916368Z"
    }
   },
   "cell_type": "code",
   "source": "profiles['user_id'].plot.hist(bins=30)",
   "id": "c4e8952ddd75053f",
   "outputs": [
    {
     "data": {
      "text/plain": [
       "<Axes: ylabel='Frequency'>"
      ]
     },
     "execution_count": 16,
     "metadata": {},
     "output_type": "execute_result"
    },
    {
     "data": {
      "text/plain": [
       "<Figure size 640x480 with 1 Axes>"
      ],
      "image/png": "[encoded data removed]"
     },
     "metadata": {},
     "output_type": "display_data"
    }
   ],
   "execution_count": 16
  },
  {
   "metadata": {},
   "cell_type": "markdown",
   "source": "Data distribution:",
   "id": "8f838905a8f69597"
  },
  {
   "metadata": {
    "ExecuteTime": {
     "end_time": "2024-10-19T13:39:59.454730Z",
     "start_time": "2024-10-19T13:39:59.095065Z"
    }
   },
   "cell_type": "code",
   "source": "sns.histplot(profiles['imei'], kde=True, bins=30)",
   "id": "c49be24f3eb011a0",
   "outputs": [
    {
     "data": {
      "text/plain": [
       "<Axes: xlabel='imei', ylabel='Count'>"
      ]
     },
     "execution_count": 17,
     "metadata": {},
     "output_type": "execute_result"
    },
    {
     "data": {
      "text/plain": [
       "<Figure size 640x480 with 1 Axes>"
      ],
      "image/png": "[encoded data removed]"
     },
     "metadata": {},
     "output_type": "display_data"
    }
   ],
   "execution_count": 17
  },
  {
   "metadata": {},
   "cell_type": "markdown",
   "source": "Create a boxplot for column user_id, the median is between 1500 and 1000:",
   "id": "77a93326893cf406"
  },
  {
   "metadata": {
    "ExecuteTime": {
     "end_time": "2024-10-19T13:39:59.609607Z",
     "start_time": "2024-10-19T13:39:59.494869Z"
    }
   },
   "cell_type": "code",
   "source": "sns.boxplot(profiles['user_id'])",
   "id": "d32c0219a89ce902",
   "outputs": [
    {
     "data": {
      "text/plain": [
       "<Axes: ylabel='user_id'>"
      ]
     },
     "execution_count": 18,
     "metadata": {},
     "output_type": "execute_result"
    },
    {
     "data": {
      "text/plain": [
       "<Figure size 640x480 with 1 Axes>"
      ],
      "image/png": "[encoded data removed]"
     },
     "metadata": {},
     "output_type": "display_data"
    }
   ],
   "execution_count": 18
  },
  {
   "metadata": {},
   "cell_type": "markdown",
   "source": [
    "---------------------------------------------------\n",
    "#### Pairwise data analysis: Identify relationships and dependencies between pairs of attributes."
   ],
   "id": "29cf9c72a30ddff"
  },
  {
   "metadata": {},
   "cell_type": "markdown",
   "source": "Calculate correlations:",
   "id": "48bc3224a1d0ac60"
  },
  {
   "metadata": {
    "ExecuteTime": {
     "end_time": "2024-10-19T13:39:59.646731Z",
     "start_time": "2024-10-19T13:39:59.637319Z"
    }
   },
   "cell_type": "code",
   "source": [
    "profiles_data = profiles[['imei', 'user_id']]\n",
    "profiles_data.corr()"
   ],
   "id": "6319e8a16be266c1",
   "outputs": [
    {
     "data": {
      "text/plain": [
       "             imei   user_id\n",
       "imei     1.000000  0.009667\n",
       "user_id  0.009667  1.000000"
      ],
      "text/html": [
       "<div>\n",
       "<style scoped>\n",
       "    .dataframe tbody tr th:only-of-type {\n",
       "        vertical-align: middle;\n",
       "    }\n",
       "\n",
       "    .dataframe tbody tr th {\n",
       "        vertical-align: top;\n",
       "    }\n",
       "\n",
       "    .dataframe thead th {\n",
       "        text-align: right;\n",
       "    }\n",
       "</style>\n",
       "<table border=\"1\" class=\"dataframe\">\n",
       "  <thead>\n",
       "    <tr style=\"text-align: right;\">\n",
       "      <th></th>\n",
       "      <th>imei</th>\n",
       "      <th>user_id</th>\n",
       "    </tr>\n",
       "  </thead>\n",
       "  <tbody>\n",
       "    <tr>\n",
       "      <th>imei</th>\n",
       "      <td>1.000000</td>\n",
       "      <td>0.009667</td>\n",
       "    </tr>\n",
       "    <tr>\n",
       "      <th>user_id</th>\n",
       "      <td>0.009667</td>\n",
       "      <td>1.000000</td>\n",
       "    </tr>\n",
       "  </tbody>\n",
       "</table>\n",
       "</div>"
      ]
     },
     "execution_count": 19,
     "metadata": {},
     "output_type": "execute_result"
    }
   ],
   "execution_count": 19
  },
  {
   "metadata": {},
   "cell_type": "markdown",
   "source": [
    "\n",
    "Bivariate analysis = Pair analysis. To see correlation between two variables/attributes"
   ],
   "id": "c50625532e13bea2"
  },
  {
   "metadata": {
    "ExecuteTime": {
     "end_time": "2024-10-19T13:39:59.866870Z",
     "start_time": "2024-10-19T13:39:59.720456Z"
    }
   },
   "cell_type": "code",
   "source": "sns.scatterplot(data=profiles, x='imei', y='user_id')",
   "id": "5512487bc7510fd2",
   "outputs": [
    {
     "data": {
      "text/plain": [
       "<Axes: xlabel='imei', ylabel='user_id'>"
      ]
     },
     "execution_count": 20,
     "metadata": {},
     "output_type": "execute_result"
    },
    {
     "data": {
      "text/plain": [
       "<Figure size 640x480 with 1 Axes>"
      ],
      "image/png": "[encoded data removed]"
     },
     "metadata": {},
     "output_type": "display_data"
    }
   ],
   "execution_count": 20
  },
  {
   "metadata": {},
   "cell_type": "markdown",
   "source": "Compare the distribution between columns imei and user_id:",
   "id": "da05f82a82e6efca"
  },
  {
   "metadata": {
    "ExecuteTime": {
     "end_time": "2024-10-19T13:40:04.228345Z",
     "start_time": "2024-10-19T13:39:59.902457Z"
    }
   },
   "cell_type": "code",
   "source": "sns.boxplot(x='imei', y='user_id', data=profiles)",
   "id": "d7feda2a7a9a1ce7",
   "outputs": [
    {
     "data": {
      "text/plain": [
       "<Axes: xlabel='imei', ylabel='user_id'>"
      ]
     },
     "execution_count": 21,
     "metadata": {},
     "output_type": "execute_result"
    },
    {
     "data": {
      "text/plain": [
       "<Figure size 640x480 with 1 Axes>"
      ],
      "image/png": "[encoded data removed]"
     },
     "metadata": {},
     "output_type": "display_data"
    }
   ],
   "execution_count": 21
  },
  {
   "metadata": {},
   "cell_type": "markdown",
   "source": "Correlation - how strong linear relationship is of the two values",
   "id": "f43c8e942fb3e03a"
  },
  {
   "metadata": {
    "ExecuteTime": {
     "end_time": "2024-10-19T13:40:05.111293Z",
     "start_time": "2024-10-19T13:40:04.299045Z"
    }
   },
   "cell_type": "code",
   "source": [
    "sns.regplot(x=\"imei\", y=\"user_id\", data=profiles)\n",
    "print(\"Pearson correlation: %.3f\" % profiles['imei'].corr(profiles['user_id']))"
   ],
   "id": "a5dd73ac93a3b1d9",
   "outputs": [
    {
     "name": "stdout",
     "output_type": "stream",
     "text": [
      "Pearson correlation: 0.010\n"
     ]
    },
    {
     "data": {
      "text/plain": [
       "<Figure size 640x480 with 1 Axes>"
      ],
      "image/png": "[encoded data removed]"
     },
     "metadata": {},
     "output_type": "display_data"
    }
   ],
   "execution_count": 22
  },
  {
   "metadata": {},
   "cell_type": "markdown",
   "source": "Correlation it the table, summary:",
   "id": "942c4fcb06fce76d"
  },
  {
   "metadata": {
    "ExecuteTime": {
     "end_time": "2024-10-19T13:40:05.145351Z",
     "start_time": "2024-10-19T13:40:05.138816Z"
    }
   },
   "cell_type": "code",
   "source": "profiles.corr(numeric_only=True)",
   "id": "4c3bf20201d53816",
   "outputs": [
    {
     "data": {
      "text/plain": [
       "             imei   user_id\n",
       "imei     1.000000  0.009667\n",
       "user_id  0.009667  1.000000"
      ],
      "text/html": [
       "<div>\n",
       "<style scoped>\n",
       "    .dataframe tbody tr th:only-of-type {\n",
       "        vertical-align: middle;\n",
       "    }\n",
       "\n",
       "    .dataframe tbody tr th {\n",
       "        vertical-align: top;\n",
       "    }\n",
       "\n",
       "    .dataframe thead th {\n",
       "        text-align: right;\n",
       "    }\n",
       "</style>\n",
       "<table border=\"1\" class=\"dataframe\">\n",
       "  <thead>\n",
       "    <tr style=\"text-align: right;\">\n",
       "      <th></th>\n",
       "      <th>imei</th>\n",
       "      <th>user_id</th>\n",
       "    </tr>\n",
       "  </thead>\n",
       "  <tbody>\n",
       "    <tr>\n",
       "      <th>imei</th>\n",
       "      <td>1.000000</td>\n",
       "      <td>0.009667</td>\n",
       "    </tr>\n",
       "    <tr>\n",
       "      <th>user_id</th>\n",
       "      <td>0.009667</td>\n",
       "      <td>1.000000</td>\n",
       "    </tr>\n",
       "  </tbody>\n",
       "</table>\n",
       "</div>"
      ]
     },
     "execution_count": 23,
     "metadata": {},
     "output_type": "execute_result"
    }
   ],
   "execution_count": 23
  },
  {
   "metadata": {},
   "cell_type": "markdown",
   "source": "Show correlations through heatmap to visualize numerical values between columns:",
   "id": "3bae63c3d27b58e8"
  },
  {
   "metadata": {
    "ExecuteTime": {
     "end_time": "2024-10-19T13:40:05.348918Z",
     "start_time": "2024-10-19T13:40:05.203200Z"
    }
   },
   "cell_type": "code",
   "source": [
    "fig, ax = plt.subplots(figsize=(10,8))\n",
    "sns.heatmap(profiles.corr(numeric_only=True), ax=ax, annot=True, fmt=\".3f\")"
   ],
   "id": "8ce1c09be611749a",
   "outputs": [
    {
     "data": {
      "text/plain": [
       "<Axes: >"
      ]
     },
     "execution_count": 24,
     "metadata": {},
     "output_type": "execute_result"
    },
    {
     "data": {
      "text/plain": [
       "<Figure size 1000x800 with 2 Axes>"
      ],
      "image/png": "[encoded data removed]"
     },
     "metadata": {},
     "output_type": "display_data"
    }
   ],
   "execution_count": 24
  },
  {
   "metadata": {},
   "cell_type": "markdown",
   "source": [
    "---------------------------------------------------\n",
    "### 1.2 A Problem identification\n",
    "\n",
    "Duplicates:"
   ],
   "id": "ec2f882f03a8d113"
  },
  {
   "metadata": {
    "ExecuteTime": {
     "end_time": "2024-10-19T13:40:05.391948Z",
     "start_time": "2024-10-19T13:40:05.383630Z"
    }
   },
   "cell_type": "code",
   "source": [
    "profiles.duplicated().sum()\n",
    "\n",
    "# zero... damn"
   ],
   "id": "d9d6ad9e8c99f763",
   "outputs": [
    {
     "data": {
      "text/plain": [
       "np.int64(0)"
      ]
     },
     "execution_count": 25,
     "metadata": {},
     "output_type": "execute_result"
    }
   ],
   "execution_count": 25
  },
  {
   "metadata": {},
   "cell_type": "markdown",
   "source": "Missing values:",
   "id": "bf83d0a407f3d3c2"
  },
  {
   "metadata": {
    "ExecuteTime": {
     "end_time": "2024-10-19T13:40:05.467361Z",
     "start_time": "2024-10-19T13:40:05.461177Z"
    }
   },
   "cell_type": "code",
   "source": "profiles.isna().sum()",
   "id": "fa6d173ba3f39b2",
   "outputs": [
    {
     "data": {
      "text/plain": [
       "username           0\n",
       "ssn                0\n",
       "mail               0\n",
       "residence       1682\n",
       "birthdate       1164\n",
       "imei               0\n",
       "user_id            0\n",
       "registration       0\n",
       "job             1811\n",
       "company            0\n",
       "address          388\n",
       "name               0\n",
       "dtype: int64"
      ]
     },
     "execution_count": 26,
     "metadata": {},
     "output_type": "execute_result"
    }
   ],
   "execution_count": 26
  },
  {
   "metadata": {},
   "cell_type": "markdown",
   "source": "We can see that there are large quantities of missing values in column residence, birthdate and job. Dropping them would shrink the dataset significantly. We can fill them with some default values.\n",
   "id": "549ac15b4858efe7"
  },
  {
   "metadata": {
    "ExecuteTime": {
     "end_time": "2024-10-19T13:40:05.536349Z",
     "start_time": "2024-10-19T13:40:05.525863Z"
    }
   },
   "cell_type": "code",
   "source": [
    "profiles.fillna({'job': 'Unknown'}, inplace=True)\n",
    "profiles.fillna({'residence': 'Unknown'}, inplace=True)\n",
    "profiles.fillna({'birthdate': 'Unknown'}, inplace=True)\n",
    "\n",
    "profiles.isna().sum()"
   ],
   "id": "4939476cb037392e",
   "outputs": [
    {
     "data": {
      "text/plain": [
       "username          0\n",
       "ssn               0\n",
       "mail              0\n",
       "residence         0\n",
       "birthdate         0\n",
       "imei              0\n",
       "user_id           0\n",
       "registration      0\n",
       "job               0\n",
       "company           0\n",
       "address         388\n",
       "name              0\n",
       "dtype: int64"
      ]
     },
     "execution_count": 27,
     "metadata": {},
     "output_type": "execute_result"
    }
   ],
   "execution_count": 27
  },
  {
   "metadata": {},
   "cell_type": "markdown",
   "source": "",
   "id": "2e16013a59995799"
  }
 ],
 "metadata": {
  "kernelspec": {
   "display_name": "Python 3",
   "language": "python",
   "name": "python3"
  },
  "language_info": {
   "codemirror_mode": {
    "name": "ipython",
    "version": 2
   },
   "file_extension": ".py",
   "mimetype": "text/x-python",
   "name": "python",
   "nbconvert_exporter": "python",
   "pygments_lexer": "ipython2",
   "version": "2.7.6"
  }
 },
 "nbformat": 4,
 "nbformat_minor": 5
}

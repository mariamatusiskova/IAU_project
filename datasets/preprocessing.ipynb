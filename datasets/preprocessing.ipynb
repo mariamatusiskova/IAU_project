{
 "cells": [
  {
   "cell_type": "code",
   "execution_count": null,
   "id": "initial_id",
   "metadata": {
    "collapsed": true
   },
   "outputs": [],
   "source": [
    "# -*- coding: utf-8 -*-\n",
    "#\n",
    "# Licensed under the Apache License, Version 2.0 (the \"License\");\n",
    "# you may not use this file except in compliance with the License.\n",
    "# You may obtain a copy of the License at\n",
    "#\n",
    "# http://www.apache.org/licenses/LICENSE-2.0\n",
    "#\n",
    "# Unless required by applicable law or agreed to in writing, software\n",
    "# distributed under the License is distributed on an \"AS IS\" BASIS,\n",
    "# WITHOUT WARRANTIES OR CONDITIONS OF ANY KIND, either express or\n",
    "# implied.\n",
    "# See the License for the specific language governing permissions and\n",
    "# limitations under the License.\n",
    "#"
   ]
  },
  {
   "metadata": {},
   "cell_type": "markdown",
   "source": [
    "### Adam Candrák/Mária Matušisková - 50%/50%\n",
    "\n",
    "# Imports"
   ],
   "id": "6a0c4b3dbec7aea8"
  },
  {
   "metadata": {},
   "cell_type": "code",
   "outputs": [],
   "execution_count": null,
   "source": [
    "import pandas as pd\n",
    "import numpy as np\n",
    "import seaborn as sns\n",
    "from sklearn.feature_selection import SelectKBest, f_classif\n",
    "import matplotlib.pyplot as plt\n",
    "from numpy import mean\n",
    "from numpy import std\n",
    "from collections import Counter\n",
    "from sklearn.model_selection import train_test_split\n",
    "from sklearn.pipeline import Pipeline\n",
    "from sklearn.compose import ColumnTransformer\n",
    "from sklearn.preprocessing import StandardScaler, PowerTransformer, MinMaxScaler"
   ],
   "id": "2f60aea49ced7511"
  },
  {
   "metadata": {},
   "cell_type": "code",
   "outputs": [],
   "execution_count": null,
   "source": [
    "connections_file = \"../data/Connections.csv\"\n",
    "processes_file = \"../data/Processes.csv\"\n",
    "\n",
    "connections = pd.read_csv(connections_file, sep='\\t')\n",
    "processes = pd.read_csv(processes_file, sep='\\t')"
   ],
   "id": "9858ba9492149dc2"
  },
  {
   "metadata": {},
   "cell_type": "markdown",
   "source": "Change the names of the columns",
   "id": "40fd4288cc2cb06c"
  },
  {
   "metadata": {},
   "cell_type": "code",
   "outputs": [],
   "execution_count": null,
   "source": [
    "c_connections = connections.connections.rename(columns={\n",
    "    \"c.katana\": \"facebook\",\n",
    "    \"c.android.chrome\": \"chrome\",\n",
    "    \"c.android.gm\": \"gmail\",\n",
    "    \"c.dogalize\": \"dogalize\",\n",
    "    \"c.android.youtube\": \"youtube\",\n",
    "    \"c.updateassist\": \"updateassist\",\n",
    "    \"c.UCMobile.intl\": \"UCMobile.intl\",\n",
    "    \"c.raider\": \"raider\",\n",
    "    \"c.android.vending\": \"vending\",\n",
    "    \"c.UCMobile.x86\": \"UCMobile.x86\",\n",
    "})\n",
    "\n",
    "p_processes = processes.processes.rename(columns={\n",
    "    \"p.katana\": \"facebook\",\n",
    "    \"p.android.chrome\": \"chrome\",\n",
    "    \"p.android.gm\": \"gmail\",\n",
    "    \"p.dogalize\": \"dogalize\",\n",
    "    \"p.android.vending\": \"vending\",\n",
    "    \"p.android.packageinstaller\": \"packageinstaller\",\n",
    "    \"p.system\": \"system\",\n",
    "    \"p.android.documentsui\": \"documentsui\",\n",
    "    \"p.android.settings\": \"settings\",\n",
    "    \"p.android.externalstorage\": \"externalstorage\",\n",
    "    \"p.android.defcontainer\": \"defcontainer\",\n",
    "    \"p.inputmethod.latin\": \"inputmethod.latin\",\n",
    "    \"p.process.gapps\": \"gapps\",\n",
    "    \"p.simulator\": \"simulator\",\n",
    "    \"p.android.gms\": \"google mobile services (gms)\",\n",
    "    \"p.google\": \"google\",\n",
    "    \"p.olauncher\": \"olauncher\",\n",
    "    \"p.browser.provider\": \"browser provider\",\n",
    "    \"p.notifier\": \"notifier\",\n",
    "    \"p.gms.persistent\": \"gms.persistent\",\n",
    "})"
   ],
   "id": "205a7ec9b037694e"
  },
  {
   "metadata": {},
   "cell_type": "markdown",
   "source": "Change type of timestamp to int64 of connections dataset:",
   "id": "cc7f6c10df095365"
  },
  {
   "metadata": {},
   "cell_type": "code",
   "outputs": [],
   "execution_count": null,
   "source": "c_connections['ts'] = pd.to_datetime(c_connections['ts']).astype(np.int64)",
   "id": "fb43e5d9a706829c"
  },
  {
   "metadata": {},
   "cell_type": "markdown",
   "source": "Change type of timestamp to int64 of processes dataset:",
   "id": "6545626e46e2f337"
  },
  {
   "metadata": {},
   "cell_type": "code",
   "outputs": [],
   "execution_count": null,
   "source": "p_processes['ts'] = pd.to_datetime(p_processes['ts']).astype(np.int64)",
   "id": "5df685fd7ce5e116"
  },
  {
   "metadata": {},
   "cell_type": "markdown",
   "source": "#### Merge datasets connections and processes:",
   "id": "5aeeb7a76d1b7869"
  },
  {
   "metadata": {},
   "cell_type": "code",
   "outputs": [],
   "execution_count": null,
   "source": [
    "merged_dataset = pd.merge(c_connections, p_processes, on=['imei', 'ts', 'mwra'])\n",
    "merged_dataset"
   ],
   "id": "2f3e604e1124eeda"
  }
 ],
 "metadata": {
  "kernelspec": {
   "display_name": "Python 3",
   "language": "python",
   "name": "python3"
  },
  "language_info": {
   "codemirror_mode": {
    "name": "ipython",
    "version": 2
   },
   "file_extension": ".py",
   "mimetype": "text/x-python",
   "name": "python",
   "nbconvert_exporter": "python",
   "pygments_lexer": "ipython2",
   "version": "2.7.6"
  }
 },
 "nbformat": 4,
 "nbformat_minor": 5
}
